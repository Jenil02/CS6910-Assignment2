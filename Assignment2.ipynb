{
  "cells": [
    {
      "cell_type": "markdown",
      "metadata": {
        "id": "view-in-github",
        "colab_type": "text"
      },
      "source": [
        "<a href=\"https://colab.research.google.com/github/Jenil02/CS6910-Assignment2/blob/main/Assignment2.ipynb\" target=\"_parent\"><img src=\"https://colab.research.google.com/assets/colab-badge.svg\" alt=\"Open In Colab\"/></a>"
      ]
    },
    {
      "cell_type": "code",
      "execution_count": null,
      "metadata": {
        "id": "F302C4XXD-zh"
      },
      "outputs": [],
      "source": [
        "pip install wandb"
      ]
    },
    {
      "cell_type": "code",
      "execution_count": 2,
      "metadata": {
        "colab": {
          "base_uri": "https://localhost:8080/",
          "height": 69
        },
        "id": "8mPFc08clOHs",
        "outputId": "916f7c1a-70db-4daa-83b6-6dd797bf89b9"
      },
      "outputs": [
        {
          "output_type": "display_data",
          "data": {
            "text/plain": [
              "<IPython.core.display.Javascript object>"
            ],
            "application/javascript": [
              "\n",
              "        window._wandbApiKey = new Promise((resolve, reject) => {\n",
              "            function loadScript(url) {\n",
              "            return new Promise(function(resolve, reject) {\n",
              "                let newScript = document.createElement(\"script\");\n",
              "                newScript.onerror = reject;\n",
              "                newScript.onload = resolve;\n",
              "                document.body.appendChild(newScript);\n",
              "                newScript.src = url;\n",
              "            });\n",
              "            }\n",
              "            loadScript(\"https://cdn.jsdelivr.net/npm/postmate/build/postmate.min.js\").then(() => {\n",
              "            const iframe = document.createElement('iframe')\n",
              "            iframe.style.cssText = \"width:0;height:0;border:none\"\n",
              "            document.body.appendChild(iframe)\n",
              "            const handshake = new Postmate({\n",
              "                container: iframe,\n",
              "                url: 'https://wandb.ai/authorize'\n",
              "            });\n",
              "            const timeout = setTimeout(() => reject(\"Couldn't auto authenticate\"), 5000)\n",
              "            handshake.then(function(child) {\n",
              "                child.on('authorize', data => {\n",
              "                    clearTimeout(timeout)\n",
              "                    resolve(data)\n",
              "                });\n",
              "            });\n",
              "            })\n",
              "        });\n",
              "    "
            ]
          },
          "metadata": {}
        },
        {
          "output_type": "stream",
          "name": "stderr",
          "text": [
            "\u001b[34m\u001b[1mwandb\u001b[0m: Appending key for api.wandb.ai to your netrc file: /root/.netrc\n"
          ]
        },
        {
          "output_type": "execute_result",
          "data": {
            "text/plain": [
              "True"
            ]
          },
          "metadata": {},
          "execution_count": 2
        }
      ],
      "source": [
        "import os\n",
        "import numpy as np\n",
        "from tqdm import tqdm\n",
        "import torch\n",
        "import torch.nn as nn\n",
        "from torchvision.transforms import transforms\n",
        "from torch.utils.data import DataLoader\n",
        "import torchvision\n",
        "import pathlib\n",
        "from torch.autograd import Variable\n",
        "import glob\n",
        "from torch.optim import Adam\n",
        "from torch.utils.data import random_split\n",
        "import wandb\n",
        "wandb.login()"
      ]
    },
    {
      "cell_type": "code",
      "execution_count": 3,
      "metadata": {
        "id": "XxNNn8t0E2-4"
      },
      "outputs": [],
      "source": [
        "device = torch.device('cuda' if torch.cuda.is_available() else 'cpu')"
      ]
    },
    {
      "cell_type": "code",
      "execution_count": 4,
      "metadata": {
        "colab": {
          "base_uri": "https://localhost:8080/"
        },
        "id": "vA1w98YBFsCj",
        "outputId": "c4850d28-8ded-4674-e1c9-84300cadfb36"
      },
      "outputs": [
        {
          "output_type": "stream",
          "name": "stdout",
          "text": [
            "cuda\n"
          ]
        }
      ],
      "source": [
        "print(device)"
      ]
    },
    {
      "cell_type": "code",
      "execution_count": 5,
      "metadata": {
        "id": "UOEc7XSDTqhB"
      },
      "outputs": [],
      "source": [
        "train_path = '/content/drive/MyDrive/inaturalist_12K/train'\n",
        "test_path = '/content/drive/MyDrive/inaturalist_12K/val'\n",
        "\n",
        "def load_data(data_augment):\n",
        "  if data_augment == True:\n",
        "    transform = transforms.Compose([\n",
        "      transforms.ToTensor(),\n",
        "      transforms.Resize((256,256)),\n",
        "      transforms.Normalize((0.5, 0.5, 0.5), (0.5, 0.5, 0.5)),\n",
        "      transforms.RandomHorizontalFlip(),\n",
        "      transforms.RandomVerticalFlip(),\n",
        "      transforms.RandomRotation(30)\n",
        "    ])\n",
        "  else:\n",
        "    transform = transforms.Compose([\n",
        "      transforms.ToTensor(),\n",
        "      transforms.Resize((256,256)),\n",
        "      transforms.Normalize((0.5, 0.5, 0.5), (0.5, 0.5, 0.5))\n",
        "    ])\n",
        "\n",
        "  trainset = torchvision.datasets.ImageFolder(train_path, transform=transform)\n",
        "\n",
        "  testset = torchvision.datasets.ImageFolder(test_path, transform=transform)\n",
        "\n",
        "  return trainset, testset"
      ]
    },
    {
      "cell_type": "code",
      "execution_count": 6,
      "metadata": {
        "colab": {
          "base_uri": "https://localhost:8080/"
        },
        "id": "V3kfwK9SKTWP",
        "outputId": "2c5f7198-bac0-41c5-b39e-62192006d934"
      },
      "outputs": [
        {
          "output_type": "execute_result",
          "data": {
            "text/plain": [
              "2"
            ]
          },
          "metadata": {},
          "execution_count": 6
        }
      ],
      "source": [
        "len(load_data(True))\n"
      ]
    },
    {
      "cell_type": "code",
      "execution_count": 7,
      "metadata": {
        "id": "XyDfTmD7F3Ax"
      },
      "outputs": [],
      "source": [
        "class ConvNet(nn.Module):\n",
        "\n",
        "  def __init__(self, num_classes, num_filters, kernel_size, droprate, batch_norm, filter_org, activation_fn, data_augment):\n",
        "    super(ConvNet,self).__init__()\n",
        "      \n",
        "    #Output size after convolution filter\n",
        "    #((w-f+2P)/s) + 1\n",
        "\n",
        "    # self.conv1 = nn.Conv3d(3, 12, kernel_size=3, stride=1, padding=1)\n",
        "    #shape = (32, 12, 256, 256)\n",
        "    self.num_filters = num_filters\n",
        "    self.kernel_size = kernel_size\n",
        "    self.num_classes = num_classes\n",
        "    self.droprate = droprate\n",
        "    self.batch_norm = batch_norm\n",
        "    self.activation = activation_fn\n",
        "    self.filter_org = filter_org\n",
        "    # self.train_dir = train_dir\n",
        "    # self.test_dir = test_dir\n",
        "    self.data_augment = data_augment\n",
        "\n",
        "    size = (32, 3, 256, 256)\n",
        "\n",
        "    self.conv1 = nn.Conv2d(3, 3*num_filters, kernel_size, stride=1, padding=1)\n",
        "    self.batch_norm1 = nn.BatchNorm2d(3*num_filters)\n",
        "    self.pool = nn.MaxPool2d(3, stride=2)\n",
        "\n",
        "    self.conv2 = nn.Conv2d(3*num_filters, 3*num_filters*(filter_org), kernel_size, stride=1, padding=1)\n",
        "    self.batch_norm2 = nn.BatchNorm2d(3*num_filters*(filter_org))\n",
        "\n",
        "    self.conv3 = nn.Conv2d(3*num_filters*(filter_org), 3*num_filters*(filter_org**2), kernel_size, stride=1, padding=1)\n",
        "    self.batch_norm3 = nn.BatchNorm2d(3*num_filters*(filter_org**2))\n",
        "\n",
        "    self.conv4 = nn.Conv2d(3*num_filters*(filter_org**2), 3*num_filters*(filter_org**3), kernel_size, stride=1, padding=1)\n",
        "    self.batch_norm4 = nn.BatchNorm2d(3*num_filters*(filter_org**3))\n",
        "\n",
        "    self.conv5 = nn.Conv2d(3*num_filters*(filter_org**3), 3*num_filters*(filter_org**4), kernel_size, stride=1, padding=1)\n",
        "    self.batch_norm5 = nn.BatchNorm2d(3*num_filters*(filter_org**4))\n",
        "    \n",
        "    self.flatten = nn.Flatten(start_dim=1, end_dim = -1)\n",
        "\n",
        "    for i in range(5):\n",
        "      m = nn.Conv2d(3, 30, kernel_size, stride=1, padding=1)\n",
        "      input = torch.randn(32, 3, size[2], size[3])\n",
        "      output = m(input)\n",
        "      n = nn.MaxPool2d(3, stride=2)\n",
        "      output = n(output)\n",
        "      size = output.shape\n",
        "      input = output\n",
        "\n",
        "    self.fc1 = nn.Linear(3*num_filters*(filter_org**4)*size[2]*size[3], num_classes)\n",
        "    self.dropout = nn.Dropout(droprate)\n",
        "    self.fc2 = nn.Linear(num_classes, num_classes)\n",
        "    self.softmax = nn.Softmax(dim=1)\n",
        "\n",
        "  def activation_fn(self,x):\n",
        "    if self.activation == 'ReLU':\n",
        "      return nn.functional.relu(x)\n",
        "    if self.activation == 'GELU':\n",
        "      return nn.functional.gelu(x)\n",
        "    if self.activation == 'SiLU':\n",
        "      return nn.functional.silu(x)\n",
        "    if self.activation == 'Mish':\n",
        "      return nn.functional.mish(x)\n",
        "    if self.activation == 'LeakyReLU':\n",
        "      return nn.functional.leaky_relu(x)\n",
        "\n",
        "  def data_load(self):\n",
        "    trainset, testset = load_data(self.data_augment)\n",
        "\n",
        "    test_abs = int(len(trainset)*0.8)\n",
        "    train_subset, val_subset = random_split(trainset, [test_abs, len(trainset)-test_abs])\n",
        "\n",
        "    trainloader = DataLoader(train_subset, batch_size=32, shuffle=True)\n",
        "    valloader = DataLoader(val_subset, batch_size=32, shuffle=True)\n",
        "    return train_subset, val_subset, trainloader, valloader, testset\n",
        "    \n",
        "\n",
        "  def forward(self, inputs):\n",
        "    self.inputs = inputs\n",
        "    cur_in = inputs\n",
        "    \n",
        "    cur_out = self.conv1(cur_in)\n",
        "    if self.batch_norm == True:\n",
        "      cur_out = self.batch_norm1(cur_out)\n",
        "    cur_out = self.activation_fn(cur_out)\n",
        "    cur_out = self.pool(cur_out)\n",
        "\n",
        "    cur_out = self.conv2(cur_out)\n",
        "    if self.batch_norm == True:\n",
        "      cur_out = self.batch_norm2(cur_out)\n",
        "    cur_out = self.activation_fn(cur_out)\n",
        "    cur_out = self.pool(cur_out)\n",
        "\n",
        "\n",
        "    cur_out = self.conv3(cur_out)\n",
        "    if self.batch_norm == True:\n",
        "      cur_out = self.batch_norm3(cur_out)\n",
        "    cur_out = self.activation_fn(cur_out)\n",
        "    cur_out = self.pool(cur_out)\n",
        "    \n",
        "    cur_out = self.conv4(cur_out)\n",
        "    if self.batch_norm == True:\n",
        "      cur_out = self.batch_norm4(cur_out)\n",
        "    cur_out = self.activation_fn(cur_out)\n",
        "    cur_out = self.pool(cur_out)\n",
        "\n",
        "    cur_out = self.conv5(cur_out)\n",
        "    if self.batch_norm == True:\n",
        "      cur_out = self.batch_norm5(cur_out)\n",
        "    cur_out = self.activation_fn(cur_out)\n",
        "    cur_out = self.pool(cur_out)\n",
        "\n",
        "    cur_out = self.flatten(cur_out)\n",
        "\n",
        "    cur_out = self.dropout(cur_out)\n",
        "\n",
        "    cur_out = self.fc1(cur_out)\n",
        "\n",
        "    cur_out = self.fc2(cur_out)\n",
        "\n",
        "    cur_out = self.softmax(cur_out)\n",
        "    return cur_out\n"
      ]
    },
    {
      "cell_type": "code",
      "execution_count": 11,
      "metadata": {
        "id": "M7N6g9CkCnMI"
      },
      "outputs": [],
      "source": [
        "def train_val(model, optimizer, num_epochs):\n",
        "\n",
        "  train_subset, val_subset, trainloader, valloader, testset = model.data_load()\n",
        "\n",
        "  loss_function = nn.CrossEntropyLoss()\n",
        "  train_count = len(train_subset)\n",
        "  val_count = len(val_subset)\n",
        "  optimizer = Adam(model.parameters(), lr=0.001, weight_decay=0.0001)\n",
        "  \n",
        "  for epoch in range(num_epochs):\n",
        "    model.train()\n",
        "    train_accuracy = 0.0\n",
        "    train_loss = 0.0\n",
        "\n",
        "    for i, (images,labels) in enumerate(trainloader):\n",
        "      if torch.cuda.is_available():\n",
        "        images = Variable(images.cuda())\n",
        "        labels = Variable(labels.cuda())\n",
        "      else:\n",
        "        images = Variable(images)\n",
        "        labels = Variable(labels)\n",
        "\n",
        "      optimizer.zero_grad()\n",
        "\n",
        "      outputs = model(images)\n",
        "      loss = loss_function(outputs,labels)\n",
        "      loss.backward()\n",
        "      optimizer.step()\n",
        "\n",
        "      train_loss += loss.cpu().data*images.size(0)\n",
        "      _,prediction = torch.max(outputs.data, 1)\n",
        "\n",
        "      train_accuracy += int(torch.sum(prediction == labels.data))\n",
        "\n",
        "    train_accuracy = train_accuracy/train_count\n",
        "    train_loss = train_loss/train_count\n",
        "\n",
        "    model.eval()\n",
        "\n",
        "    val_loss = 0.0\n",
        "    val_accuracy = 0.0\n",
        "\n",
        "    for i, (images,labels) in enumerate(valloader):\n",
        "      with torch.no_grad():\n",
        "        if torch.cuda.is_available():\n",
        "          images = Variable(images.cuda())\n",
        "          labels = Variable(labels.cuda())\n",
        "        else:\n",
        "          images = Variable(images)\n",
        "          labels = Variable(labels)\n",
        "\n",
        "        outputs = model(images)\n",
        "        loss = loss_function(outputs,labels)\n",
        "\n",
        "        val_loss += loss.cpu().data*images.size(0)\n",
        "        _,prediction = torch.max(outputs.data, 1)\n",
        "\n",
        "        val_accuracy += int(torch.sum(prediction == labels.data))\n",
        "\n",
        "    val_accuracy = val_accuracy/val_count\n",
        "    val_loss = val_loss/val_count\n",
        "\n",
        "    print({\"train_loss\": train_loss, \"val_loss\": val_loss, \"train_accuracy\": train_accuracy, \"val_accuracy\": val_accuracy})\n"
      ]
    },
    {
      "cell_type": "code",
      "execution_count": null,
      "metadata": {
        "id": "KEnCzAGUCZ2a"
      },
      "outputs": [],
      "source": [
        "model = ConvNet(10, 3, 5, 0.1, True, 1, 'ReLU', True).to(device)\n",
        "optimizer = Adam(model.parameters(), lr=0.001, weight_decay=0.0001)\n",
        "train_val(model, optimizer, 5)"
      ]
    },
    {
      "cell_type": "code",
      "execution_count": null,
      "metadata": {
        "colab": {
          "background_save": true
        },
        "id": "9Zkm7VRwGgMG"
      },
      "outputs": [],
      "source": [
        "def run():\n",
        "  wandb.init()\n",
        "  config = wandb.config\n",
        "  model = ConvNet(10, config.num_filters,  config.kernel_size, config.droprate, config.batch_norm, config.filter_org, config.activation, config.data_augment).to(device)\n",
        "  optimizer = Adam(model.parameters(), lr=0.001, weight_decay=0.0001)\n",
        "  print('hi')\n",
        "  train_val(model, optimizer, 5)\n",
        "  print('bye')\n",
        "  wandb.finish()\n",
        "\n",
        "sweep_config = {\n",
        "    'method': 'random', #grid, random\n",
        "    'metric': {\n",
        "        'goal' : 'maximize',\n",
        "        'name': 'val_accuracy'\n",
        "    },\n",
        "    'parameters': {\n",
        "        'num_filters': {\n",
        "            'values': [16, 32, 64, 128]\n",
        "        },\n",
        "        'filter_org': {\n",
        "            'values': [0.5, 1, 2, 3]\n",
        "        },\n",
        "        'kernel_size': {\n",
        "            'values': [3, 5, 7]\n",
        "        },\n",
        "        'droprate': {\n",
        "            'values': [0, 0.1, 0.2, 0.3]\n",
        "        },\n",
        "        'batch_norm': {\n",
        "            'values': [True, False]\n",
        "        },\n",
        "        'activation': {\n",
        "            'values': ['ReLU', 'GELU', 'SiLU', 'Mish', 'LeakyReLU']\n",
        "        },\n",
        "        'data_augment': {\n",
        "            'values': [True, False]\n",
        "        },\n",
        "        \n",
        "        }\n",
        "    }\n",
        "\n",
        "sweep_id = wandb.sweep(sweep_config, project=\"iNaturalist\")\n",
        "wandb.agent(sweep_id, run, count=2)"
      ]
    }
  ],
  "metadata": {
    "accelerator": "GPU",
    "colab": {
      "provenance": [],
      "mount_file_id": "12EqeeNeZ5CUCGRJJ-2VRY4a9nq9eJlXd",
      "authorship_tag": "ABX9TyPrVPTOZzbT8YJbz7kGSydK",
      "include_colab_link": true
    },
    "gpuClass": "standard",
    "kernelspec": {
      "display_name": "Python 3",
      "name": "python3"
    },
    "language_info": {
      "name": "python"
    }
  },
  "nbformat": 4,
  "nbformat_minor": 0
}