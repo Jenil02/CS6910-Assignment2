{
  "nbformat": 4,
  "nbformat_minor": 0,
  "metadata": {
    "colab": {
      "provenance": [],
      "authorship_tag": "ABX9TyOlA3JN1rqQ8eWObgCgwywj",
      "include_colab_link": true
    },
    "kernelspec": {
      "name": "python3",
      "display_name": "Python 3"
    },
    "language_info": {
      "name": "python"
    },
    "gpuClass": "standard"
  },
  "cells": [
    {
      "cell_type": "markdown",
      "metadata": {
        "id": "view-in-github",
        "colab_type": "text"
      },
      "source": [
        "<a href=\"https://colab.research.google.com/github/Jenil02/CS6910-Assignment2/blob/main/Assignment2.ipynb\" target=\"_parent\"><img src=\"https://colab.research.google.com/assets/colab-badge.svg\" alt=\"Open In Colab\"/></a>"
      ]
    },
    {
      "cell_type": "code",
      "execution_count": null,
      "metadata": {
        "id": "F302C4XXD-zh"
      },
      "outputs": [],
      "source": [
        "import os\n",
        "import numpy as np\n",
        "import torch\n",
        "import torch.nn as nn\n",
        "from torchvision.transforms import transforms\n",
        "from torch.utils.data import DataLoader\n",
        "import torchvision\n",
        "import pathlib"
      ]
    },
    {
      "cell_type": "code",
      "source": [
        "device = torch.device('cuda' if torch.cuda.is_available() else 'cpu')"
      ],
      "metadata": {
        "id": "XxNNn8t0E2-4"
      },
      "execution_count": null,
      "outputs": []
    },
    {
      "cell_type": "code",
      "source": [
        "print(device)"
      ],
      "metadata": {
        "colab": {
          "base_uri": "https://localhost:8080/"
        },
        "id": "vA1w98YBFsCj",
        "outputId": "30d6868d-590c-422e-cee4-a22daba3c269"
      },
      "execution_count": null,
      "outputs": [
        {
          "output_type": "stream",
          "name": "stdout",
          "text": [
            "cuda\n"
          ]
        }
      ]
    },
    {
      "cell_type": "code",
      "source": [
        "class ConvNet(nn.Module):\n",
        "\n",
        "  def __init__(self, num_classes = 10, kernel_size: tuple = (3,3,3), filter_org: int = 2, activation_fn: str = 'ReLU', p: float = 0.5, batch_norm: bool = True):\n",
        "    super(ConvNet.self).__init__()\n",
        "      \n",
        "    #Output size after convolution filter\n",
        "    #((w-f+2P)/s) + 1\n",
        "\n",
        "    self.pool = nn.MaxPool3d(2)\n",
        "\n",
        "    self.dropout = nn.Dropout(p)\n",
        "\n",
        "    self.fc = nn.Linear()\n",
        "\n",
        "    def activation(self,x):\n",
        "      if self.activation_fn == 'ReLU':\n",
        "        return nn.ReLU(x)\n",
        "      if self.activation_fn == 'GELU':\n",
        "        return nn.GELU(x)\n",
        "      if self.activation_fn == 'SiLU':\n",
        "        return nn.SiLU(x)\n",
        "      if self.activation_fn == 'Mish':\n",
        "        return nn.Mish(x)\n",
        "        \n",
        "    \n",
        "\n",
        "    def forward(self, inputs, droprate, batch_norm, kernel_size, filter_org, activation_fn):\n",
        "        self.inputs = inputs\n",
        "        cur_in = inputs\n",
        "        in_channels = 3\n",
        "        kernels = [kernel_size]*5\n",
        "        size = input.shape()\n",
        "        for i in range(5):\n",
        "          if i > 1:\n",
        "            kernels[i] = kernels[i-1]*filter_org\n",
        "          self.conv = nn.Conv3d(in_channels, in_channels*kernels[i][0], kernels[i], stride=1, padding=1)\n",
        "          self.batch_norm = nn.BatchNorm3d(in_channels*kernels[i][0])\n",
        "          if batch_norm == True:\n",
        "            cur_out = self.pool(self.activation_fn(self.batch_norm(self.conv(cur_in))))\n",
        "          else:\n",
        "            cur_out = self.pool(self.activation_fn(self.conv(cur_in)))\n",
        "          \n",
        "          cur_in = cur_out\n",
        "          in_channels = in_channels*kernels[i][0]\n",
        "          size = ((size[0] - kernels[i][0] + 2*1)/1 + 1)\n",
        "        \n"
      ],
      "metadata": {
        "id": "XyDfTmD7F3Ax"
      },
      "execution_count": null,
      "outputs": []
    }
  ]
}